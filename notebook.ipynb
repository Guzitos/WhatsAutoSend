{
 "cells": [
  {
   "metadata": {},
   "cell_type": "markdown",
   "source": "##   Objetivo: Enviar mensagem para várias pessoas ou grupos automaticamente",
   "id": "5a6027680b86b5ff"
  },
  {
   "metadata": {},
   "cell_type": "code",
   "source": [
    "import pandas as pd\n",
    "\n",
    "contatos_df = pd.read_excel(\"Enviar.xlsx\")\n",
    "display(contatos_df)"
   ],
   "id": "fbc121e30a2defb3",
   "outputs": [],
   "execution_count": null
  },
  {
   "metadata": {},
   "cell_type": "code",
   "source": [
    "from selenium import webdriver\n",
    "from selenium.webdriver.common.by import By\n",
    "from selenium.webdriver.common.keys import Keys\n",
    "from selenium.webdriver.support.ui import WebDriverWait\n",
    "from selenium.webdriver.support import expected_conditions as EC\n",
    "import urllib\n",
    "import time\n",
    "\n",
    "# Iniciar navegador\n",
    "navegador = webdriver.Chrome()\n",
    "navegador.get('https://web.whatsapp.com/')\n",
    "\n",
    "# Aguardar carregamento inicial\n",
    "WebDriverWait(navegador, 60).until(EC.presence_of_element_located((By.ID, \"side\")))\n",
    "\n",
    "# Loop pelos contatos\n",
    "for i in range(len(contatos_df)):\n",
    "    pessoa = contatos_df.loc[i, \"Pessoa\"]\n",
    "    numero = contatos_df.loc[i, \"Número\"]\n",
    "    mensagem = contatos_df.loc[i, \"Mensagem\"]\n",
    "\n",
    "    texto = urllib.parse.quote(f\"Oi {pessoa}! {mensagem}\")\n",
    "    link = f'https://web.whatsapp.com/send?phone={numero}&text={texto}'\n",
    "    navegador.get(link)\n",
    "\n",
    "    try:\n",
    "        # Esperar que o campo de digitação apareça (máximo 30 segundos)\n",
    "        campo_msg = WebDriverWait(navegador, 30).until(\n",
    "            EC.presence_of_element_located((By.XPATH, '//div[@contenteditable=\"true\" and @data-tab=\"10\"]'))\n",
    "        )\n",
    "        campo_msg.send_keys(Keys.ENTER)\n",
    "        print(f\"✅ Mensagem enviada para {numero}\")\n",
    "        time.sleep(10)  # Espera para evitar bloqueio\n",
    "    except Exception as e:\n",
    "        print(f\"❌ Erro ao enviar para {numero}: {e}\")"
   ],
   "id": "522fe21f7a542e3c",
   "outputs": [],
   "execution_count": null
  }
 ],
 "metadata": {
  "kernelspec": {
   "display_name": "Python 3",
   "language": "python",
   "name": "python3"
  },
  "language_info": {
   "codemirror_mode": {
    "name": "ipython",
    "version": 2
   },
   "file_extension": ".py",
   "mimetype": "text/x-python",
   "name": "python",
   "nbconvert_exporter": "python",
   "pygments_lexer": "ipython2",
   "version": "2.7.6"
  }
 },
 "nbformat": 4,
 "nbformat_minor": 5
}
